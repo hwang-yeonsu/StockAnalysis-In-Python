{
 "cells": [
  {
   "cell_type": "markdown",
   "id": "0855e5f3",
   "metadata": {
    "toc": true
   },
   "source": [
    "<h1>Table of Contents<span class=\"tocSkip\"></span></h1>\n",
    "<div class=\"toc\"><ul class=\"toc-item\"><li><span><a href=\"#pd.read_html\" data-toc-modified-id=\"pd.read_html-1\">pd.read_html</a></span></li><li><span><a href=\"#BeautifulSoup\" data-toc-modified-id=\"BeautifulSoup-2\">BeautifulSoup</a></span></li><li><span><a href=\"#OHLCV\" data-toc-modified-id=\"OHLCV-3\">OHLCV</a></span></li></ul></div>"
   ]
  },
  {
   "cell_type": "markdown",
   "id": "4de2464b",
   "metadata": {},
   "source": [
    "## pd.read_html"
   ]
  },
  {
   "cell_type": "code",
   "execution_count": 62,
   "id": "1e2b1c01",
   "metadata": {
    "ExecuteTime": {
     "end_time": "2021-10-23T19:14:10.146805Z",
     "start_time": "2021-10-23T19:14:10.131201Z"
    }
   },
   "outputs": [],
   "source": [
    "import numpy as np\n",
    "import pandas as pd\n",
    "%matplotlib inline"
   ]
  },
  {
   "cell_type": "code",
   "execution_count": 42,
   "id": "54fafd70",
   "metadata": {
    "ExecuteTime": {
     "end_time": "2021-10-23T08:29:37.874525Z",
     "start_time": "2021-10-23T08:29:35.759659Z"
    },
    "scrolled": false
   },
   "outputs": [
    {
     "data": {
      "text/html": [
       "<div>\n",
       "<style scoped>\n",
       "    .dataframe tbody tr th:only-of-type {\n",
       "        vertical-align: middle;\n",
       "    }\n",
       "\n",
       "    .dataframe tbody tr th {\n",
       "        vertical-align: top;\n",
       "    }\n",
       "\n",
       "    .dataframe thead th {\n",
       "        text-align: right;\n",
       "    }\n",
       "</style>\n",
       "<table border=\"1\" class=\"dataframe\">\n",
       "  <thead>\n",
       "    <tr style=\"text-align: right;\">\n",
       "      <th></th>\n",
       "      <th>회사명</th>\n",
       "      <th>종목코드</th>\n",
       "      <th>업종</th>\n",
       "      <th>주요제품</th>\n",
       "      <th>상장일</th>\n",
       "      <th>결산월</th>\n",
       "      <th>대표자명</th>\n",
       "      <th>홈페이지</th>\n",
       "      <th>지역</th>\n",
       "    </tr>\n",
       "  </thead>\n",
       "  <tbody>\n",
       "    <tr>\n",
       "      <th>0</th>\n",
       "      <td>DRB동일</td>\n",
       "      <td>004840</td>\n",
       "      <td>고무제품 제조업</td>\n",
       "      <td>고무벨트(V벨트,콘베이어벨트,평벨트),프라스틱제품 제조,판매</td>\n",
       "      <td>1976-05-21</td>\n",
       "      <td>12월</td>\n",
       "      <td>류영식</td>\n",
       "      <td>http://drbworld.com</td>\n",
       "      <td>부산광역시</td>\n",
       "    </tr>\n",
       "    <tr>\n",
       "      <th>1</th>\n",
       "      <td>DSR</td>\n",
       "      <td>155660</td>\n",
       "      <td>1차 비철금속 제조업</td>\n",
       "      <td>합섬섬유로프</td>\n",
       "      <td>2013-05-15</td>\n",
       "      <td>12월</td>\n",
       "      <td>홍석빈</td>\n",
       "      <td>http://www.dsr.com</td>\n",
       "      <td>부산광역시</td>\n",
       "    </tr>\n",
       "    <tr>\n",
       "      <th>2</th>\n",
       "      <td>GS</td>\n",
       "      <td>078930</td>\n",
       "      <td>기타 금융업</td>\n",
       "      <td>지주회사/부동산 임대</td>\n",
       "      <td>2004-08-05</td>\n",
       "      <td>12월</td>\n",
       "      <td>허태수, 홍순기 (각자 대표이사)</td>\n",
       "      <td>NaN</td>\n",
       "      <td>서울특별시</td>\n",
       "    </tr>\n",
       "  </tbody>\n",
       "</table>\n",
       "</div>"
      ],
      "text/plain": [
       "     회사명    종목코드           업종                               주요제품         상장일  \\\n",
       "0  DRB동일  004840     고무제품 제조업  고무벨트(V벨트,콘베이어벨트,평벨트),프라스틱제품 제조,판매  1976-05-21   \n",
       "1    DSR  155660  1차 비철금속 제조업                             합섬섬유로프  2013-05-15   \n",
       "2     GS  078930       기타 금융업                        지주회사/부동산 임대  2004-08-05   \n",
       "\n",
       "   결산월                대표자명                 홈페이지     지역  \n",
       "0  12월                 류영식  http://drbworld.com  부산광역시  \n",
       "1  12월                 홍석빈   http://www.dsr.com  부산광역시  \n",
       "2  12월  허태수, 홍순기 (각자 대표이사)                  NaN  서울특별시  "
      ]
     },
     "execution_count": 42,
     "metadata": {},
     "output_type": "execute_result"
    }
   ],
   "source": [
    "df = pd.read_html('https://kind.krx.co.kr/corpgeneral/corpList.do?method=download&searchType=13')[0]\n",
    "df['종목코드'] = df['종목코드'].map('{:06d}'.format)\n",
    "df.head(3)"
   ]
  },
  {
   "cell_type": "markdown",
   "id": "8ce3e736",
   "metadata": {},
   "source": [
    "## BeautifulSoup"
   ]
  },
  {
   "cell_type": "code",
   "execution_count": 55,
   "id": "6eef30dd",
   "metadata": {
    "ExecuteTime": {
     "end_time": "2021-10-23T19:00:37.872490Z",
     "start_time": "2021-10-23T19:00:36.832876Z"
    },
    "scrolled": false
   },
   "outputs": [
    {
     "name": "stdout",
     "output_type": "stream",
     "text": [
      "[]\n"
     ]
    }
   ],
   "source": [
    "from bs4 import BeautifulSoup\n",
    "from urllib.request import urlopen\n",
    "from pprint import pprint\n",
    "\n",
    "url = 'https://finance.naver.com/item/sise.naver?code=019170'\n",
    "with urlopen(url) as doc:\n",
    "    html = BeautifulSoup(doc)\n",
    "    pgrr = html.select('table.Nnavi')\n",
    "    pprint(pgrr)"
   ]
  },
  {
   "cell_type": "code",
   "execution_count": 56,
   "id": "cfb71f5e",
   "metadata": {
    "ExecuteTime": {
     "end_time": "2021-10-23T19:04:53.198068Z",
     "start_time": "2021-10-23T19:04:51.819194Z"
    }
   },
   "outputs": [
    {
     "data": {
      "text/html": [
       "<div>\n",
       "<style scoped>\n",
       "    .dataframe tbody tr th:only-of-type {\n",
       "        vertical-align: middle;\n",
       "    }\n",
       "\n",
       "    .dataframe tbody tr th {\n",
       "        vertical-align: top;\n",
       "    }\n",
       "\n",
       "    .dataframe thead th {\n",
       "        text-align: right;\n",
       "    }\n",
       "</style>\n",
       "<table border=\"1\" class=\"dataframe\">\n",
       "  <thead>\n",
       "    <tr style=\"text-align: right;\">\n",
       "      <th></th>\n",
       "      <th>Open</th>\n",
       "      <th>High</th>\n",
       "      <th>Low</th>\n",
       "      <th>Close</th>\n",
       "      <th>Volume</th>\n",
       "      <th>Change</th>\n",
       "    </tr>\n",
       "    <tr>\n",
       "      <th>Date</th>\n",
       "      <th></th>\n",
       "      <th></th>\n",
       "      <th></th>\n",
       "      <th></th>\n",
       "      <th></th>\n",
       "      <th></th>\n",
       "    </tr>\n",
       "  </thead>\n",
       "  <tbody>\n",
       "    <tr>\n",
       "      <th>2018-01-02</th>\n",
       "      <td>7730</td>\n",
       "      <td>7950</td>\n",
       "      <td>7690</td>\n",
       "      <td>7950</td>\n",
       "      <td>449582</td>\n",
       "      <td>0.033810</td>\n",
       "    </tr>\n",
       "    <tr>\n",
       "      <th>2018-01-03</th>\n",
       "      <td>8060</td>\n",
       "      <td>8880</td>\n",
       "      <td>7960</td>\n",
       "      <td>8540</td>\n",
       "      <td>2617845</td>\n",
       "      <td>0.074214</td>\n",
       "    </tr>\n",
       "    <tr>\n",
       "      <th>2018-01-04</th>\n",
       "      <td>8600</td>\n",
       "      <td>8840</td>\n",
       "      <td>8060</td>\n",
       "      <td>8440</td>\n",
       "      <td>758329</td>\n",
       "      <td>-0.011710</td>\n",
       "    </tr>\n",
       "    <tr>\n",
       "      <th>2018-01-05</th>\n",
       "      <td>8450</td>\n",
       "      <td>8980</td>\n",
       "      <td>8450</td>\n",
       "      <td>8940</td>\n",
       "      <td>647279</td>\n",
       "      <td>0.059242</td>\n",
       "    </tr>\n",
       "    <tr>\n",
       "      <th>2018-01-08</th>\n",
       "      <td>9030</td>\n",
       "      <td>9390</td>\n",
       "      <td>8780</td>\n",
       "      <td>8800</td>\n",
       "      <td>767722</td>\n",
       "      <td>-0.015660</td>\n",
       "    </tr>\n",
       "    <tr>\n",
       "      <th>...</th>\n",
       "      <td>...</td>\n",
       "      <td>...</td>\n",
       "      <td>...</td>\n",
       "      <td>...</td>\n",
       "      <td>...</td>\n",
       "      <td>...</td>\n",
       "    </tr>\n",
       "    <tr>\n",
       "      <th>2021-10-18</th>\n",
       "      <td>62300</td>\n",
       "      <td>62300</td>\n",
       "      <td>60500</td>\n",
       "      <td>60500</td>\n",
       "      <td>438183</td>\n",
       "      <td>-0.028892</td>\n",
       "    </tr>\n",
       "    <tr>\n",
       "      <th>2021-10-19</th>\n",
       "      <td>60900</td>\n",
       "      <td>62100</td>\n",
       "      <td>60300</td>\n",
       "      <td>61000</td>\n",
       "      <td>481161</td>\n",
       "      <td>0.008264</td>\n",
       "    </tr>\n",
       "    <tr>\n",
       "      <th>2021-10-20</th>\n",
       "      <td>61500</td>\n",
       "      <td>62800</td>\n",
       "      <td>60800</td>\n",
       "      <td>60800</td>\n",
       "      <td>497785</td>\n",
       "      <td>-0.003279</td>\n",
       "    </tr>\n",
       "    <tr>\n",
       "      <th>2021-10-21</th>\n",
       "      <td>61100</td>\n",
       "      <td>61400</td>\n",
       "      <td>58700</td>\n",
       "      <td>59200</td>\n",
       "      <td>523849</td>\n",
       "      <td>-0.026316</td>\n",
       "    </tr>\n",
       "    <tr>\n",
       "      <th>2021-10-22</th>\n",
       "      <td>59500</td>\n",
       "      <td>59900</td>\n",
       "      <td>57900</td>\n",
       "      <td>58600</td>\n",
       "      <td>380556</td>\n",
       "      <td>-0.010135</td>\n",
       "    </tr>\n",
       "  </tbody>\n",
       "</table>\n",
       "<p>937 rows × 6 columns</p>\n",
       "</div>"
      ],
      "text/plain": [
       "             Open   High    Low  Close   Volume    Change\n",
       "Date                                                     \n",
       "2018-01-02   7730   7950   7690   7950   449582  0.033810\n",
       "2018-01-03   8060   8880   7960   8540  2617845  0.074214\n",
       "2018-01-04   8600   8840   8060   8440   758329 -0.011710\n",
       "2018-01-05   8450   8980   8450   8940   647279  0.059242\n",
       "2018-01-08   9030   9390   8780   8800   767722 -0.015660\n",
       "...           ...    ...    ...    ...      ...       ...\n",
       "2021-10-18  62300  62300  60500  60500   438183 -0.028892\n",
       "2021-10-19  60900  62100  60300  61000   481161  0.008264\n",
       "2021-10-20  61500  62800  60800  60800   497785 -0.003279\n",
       "2021-10-21  61100  61400  58700  59200   523849 -0.026316\n",
       "2021-10-22  59500  59900  57900  58600   380556 -0.010135\n",
       "\n",
       "[937 rows x 6 columns]"
      ]
     },
     "execution_count": 56,
     "metadata": {},
     "output_type": "execute_result"
    }
   ],
   "source": [
    "import FinanceDataReader as fdr\n",
    "신풍제약 = fdr.DataReader('019170', '2018')\n",
    "신풍제약"
   ]
  },
  {
   "cell_type": "markdown",
   "id": "3fc988bc",
   "metadata": {},
   "source": [
    "## OHLCV"
   ]
  },
  {
   "cell_type": "code",
   "execution_count": 66,
   "id": "dcbf4d48",
   "metadata": {
    "ExecuteTime": {
     "end_time": "2021-10-23T19:15:55.890008Z",
     "start_time": "2021-10-23T19:15:55.551699Z"
    }
   },
   "outputs": [
    {
     "data": {
      "text/plain": [
       "<AxesSubplot:xlabel='Date'>"
      ]
     },
     "execution_count": 66,
     "metadata": {},
     "output_type": "execute_result"
    },
    {
     "data": {
      "image/png": "[encoded data removed]",
      "text/plain": [
       "<Figure size 432x288 with 1 Axes>"
      ]
     },
     "metadata": {
      "needs_background": "light"
     },
     "output_type": "display_data"
    }
   ],
   "source": [
    "신풍제약 = 신풍제약.dropna()\n",
    "신풍제약['2019-07':].Close.plot()"
   ]
  }
 ],
 "metadata": {
  "kernelspec": {
   "display_name": "Python 3",
   "language": "python",
   "name": "python3"
  },
  "language_info": {
   "codemirror_mode": {
    "name": "ipython",
    "version": 3
   },
   "file_extension": ".py",
   "mimetype": "text/x-python",
   "name": "python",
   "nbconvert_exporter": "python",
   "pygments_lexer": "ipython3",
   "version": "3.8.11"
  },
  "toc": {
   "base_numbering": 1,
   "nav_menu": {},
   "number_sections": false,
   "sideBar": false,
   "skip_h1_title": false,
   "title_cell": "Table of Contents",
   "title_sidebar": "Contents",
   "toc_cell": true,
   "toc_position": {},
   "toc_section_display": true,
   "toc_window_display": false
  },
  "varInspector": {
   "cols": {
    "lenName": 16,
    "lenType": 16,
    "lenVar": 40
   },
   "kernels_config": {
    "python": {
     "delete_cmd_postfix": "",
     "delete_cmd_prefix": "del ",
     "library": "var_list.py",
     "varRefreshCmd": "print(var_dic_list())"
    },
    "r": {
     "delete_cmd_postfix": ") ",
     "delete_cmd_prefix": "rm(",
     "library": "var_list.r",
     "varRefreshCmd": "cat(var_dic_list()) "
    }
   },
   "types_to_exclude": [
    "module",
    "function",
    "builtin_function_or_method",
    "instance",
    "_Feature"
   ],
   "window_display": false
  }
 },
 "nbformat": 4,
 "nbformat_minor": 5
}
